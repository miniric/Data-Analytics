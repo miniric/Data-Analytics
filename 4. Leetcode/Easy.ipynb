{
 "cells": [
  {
   "cell_type": "markdown",
   "id": "57a15c9a",
   "metadata": {},
   "source": [
    "# 1. Two Sums"
   ]
  },
  {
   "cell_type": "code",
   "execution_count": null,
   "id": "12dba384",
   "metadata": {},
   "outputs": [],
   "source": [
    "# Original Thoughts\n",
    "class Solution:\n",
    "    def twoSum(self, nums: List[int], target: int) -> List[int]:\n",
    "        for index1 in range(len(nums) - 1):\n",
    "            for index2 in range(index1 + 1, len(nums)):\n",
    "                if nums[index1] + nums[index2] == target:\n",
    "                    return [index1, index2]\n",
    "\n",
    "# Using Hash table                \n",
    "class Solution:\n",
    "    def twoSum(self, nums: List[int], target: int) -> List[int]:\n",
    "        num_map = {}\n",
    "        for index, numbers in enumerate(nums):\n",
    "            diff = target - numbers\n",
    "            if diff in num_map:\n",
    "                return num_map[diff], index\n",
    "            else:\n",
    "                num_map[numbers] = index "
   ]
  },
  {
   "cell_type": "markdown",
   "id": "bc61430b",
   "metadata": {},
   "source": [
    "# 9. Palindrome"
   ]
  },
  {
   "cell_type": "code",
   "execution_count": null,
   "id": "e772ebf5",
   "metadata": {},
   "outputs": [],
   "source": [
    "def isPalindrome(self, x: int) -> bool:\n",
    "    #change int into a string\n",
    "    new_input = str(x)\n",
    "    index, var = divmod(len(new_input), 2)\n",
    "    result = True\n",
    "    for i in range(index):\n",
    "        if new_input[i] != new_input[-i-1]:\n",
    "            return False\n",
    "    return True"
   ]
  },
  {
   "cell_type": "markdown",
   "id": "629a3651",
   "metadata": {},
   "source": [
    "# 13. Roman to Integer"
   ]
  },
  {
   "cell_type": "code",
   "execution_count": null,
   "id": "e912f648",
   "metadata": {},
   "outputs": [],
   "source": [
    "class Solution:\n",
    "    def romanToInt(self, s: str) -> int:\n",
    "        dict_roman = {\"I\":1, \"V\":5, \"X\":10, \"L\":50, \"C\":100, \"D\":500, \"M\":1000}\n",
    "        ans = 0\n",
    "        index = -1\n",
    "        while index >= -len(s):\n",
    "            current_value = dict_roman[s[index]]\n",
    "            if index -1 >= -len(s):\n",
    "                next_value = dict_roman[s[index - 1]]\n",
    "                \n",
    "                if next_value < current_value:\n",
    "                    ans = ans + current_value - next_value\n",
    "                    index -= 2\n",
    "                else:\n",
    "                    ans += current_value\n",
    "                    index -= 1\n",
    "            else:\n",
    "                ans += current_value\n",
    "                index -= 1\n",
    "\n",
    "        return ans "
   ]
  },
  {
   "cell_type": "markdown",
   "id": "6cfa8db7",
   "metadata": {},
   "source": [
    "# 14. Longest Common Prefix"
   ]
  },
  {
   "cell_type": "code",
   "execution_count": null,
   "id": "c35fbca7",
   "metadata": {},
   "outputs": [],
   "source": [
    "# Example 1:\n",
    "\n",
    "# Input: strs = [\"flower\",\"flow\",\"flight\"]\n",
    "# Output: \"fl\"\n",
    "\n",
    "# Example 2:\n",
    "\n",
    "# Input: strs = [\"dog\",\"racecar\",\"car\"]\n",
    "# Output: \"\"\n",
    "\n",
    "def longestCommonPrefix(strs):\n",
    "    # decide loop times.\n",
    "    temp_list = [len(words) for words in strs]\n",
    "    temp_list.sort()\n",
    "    min_length = temp_list[0]  \n",
    "\n",
    "    # initialize the ansewr\n",
    "    ans = \"\"\n",
    "    \n",
    "    # use the minimum word count as minimum word count\n",
    "    for index in range(min_length):\n",
    "        # initialize the temp ans\n",
    "        \n",
    "        temp_ans = strs[0][index]\n",
    "        score = 0\n",
    "\n",
    "        for index2 in range(len(strs)):\n",
    "            if strs[index2][index] == temp_ans:\n",
    "                score += 1\n",
    "            else:\n",
    "                return ans\n",
    "\n",
    "            # check scores\n",
    "            if score == len(strs):\n",
    "                ans += temp_ans\n",
    "\n",
    "    return ans"
   ]
  },
  {
   "cell_type": "markdown",
   "id": "52935df8",
   "metadata": {},
   "source": [
    "# 20. Valid Parentheses"
   ]
  },
  {
   "cell_type": "code",
   "execution_count": null,
   "id": "63111df8",
   "metadata": {},
   "outputs": [],
   "source": [
    "class Solution:\n",
    "    def isValid(self, s: str) -> bool:\n",
    "        # you need even numbers\n",
    "        "
   ]
  },
  {
   "cell_type": "markdown",
   "id": "4ab52a09",
   "metadata": {},
   "source": [
    "# 66. Plus One"
   ]
  },
  {
   "cell_type": "code",
   "execution_count": null,
   "id": "69500b99",
   "metadata": {},
   "outputs": [],
   "source": [
    "# Initial thoughts\n",
    "class Solution:\n",
    "    def plusOne(self, digits: List[int]) -> List[int]:\n",
    "        real_num = 0\n",
    "        for i in range(len(digits)):\n",
    "            real_num += digits[-1 -i] * 10 ** i\n",
    "\n",
    "        real_num = real_num + 1\n",
    "        # revert int to str\n",
    "        string_digits = str(real_num)\n",
    "        digits = [int(i) for i in string_digits]\n",
    "        return digits\n",
    "\n",
    "\n",
    "# Better solution\n",
    "class Solution:\n",
    "    def plusOne(self, digits: List[int]) -> List[int]:\n",
    "        carry = 1  # 一開始要加1\n",
    "        for i in range(len(digits) - 1, -1, -1):  # 從最後一位開始\n",
    "            new_val = digits[i] + carry\n",
    "            digits[i] = new_val % 10\n",
    "            carry = new_val // 10\n",
    "\n",
    "        if carry:\n",
    "            digits.insert(0, carry)\n",
    "        return digits\n",
    "        "
   ]
  },
  {
   "cell_type": "markdown",
   "id": "56552858",
   "metadata": {},
   "source": [
    "# 69. Sqrt(x)"
   ]
  },
  {
   "cell_type": "code",
   "execution_count": null,
   "id": "183aebe0",
   "metadata": {},
   "outputs": [],
   "source": [
    "# Initial thoughts\n",
    "class Solution:\n",
    "    def mySqrt(self, x: int) -> int:\n",
    "        i = 1\n",
    "        while i * i < x:\n",
    "            i += 1\n",
    "        \n",
    "        if i * i = x\n",
    "            return x\n",
    "        else:\n",
    "            return x - 1\n",
    "        \n",
    "\n",
    "# Better solution (Binary Search)\n",
    "class Solution:\n",
    "    def mySqrt(self, x: int) -> int:\n",
    "        if x < 2:\n",
    "            return x\n",
    "\n",
    "        left, right = 1, x // 2\n",
    "        while left <= right:\n",
    "            mid = (left + right) // 2\n",
    "            if mid * mid == x:\n",
    "                return mid\n",
    "            elif mid * mid < x:\n",
    "                left = mid + 1\n",
    "            else:\n",
    "                right = mid - 1\n",
    "\n",
    "        return right        "
   ]
  },
  {
   "cell_type": "markdown",
   "id": "f46f21fc",
   "metadata": {},
   "source": [
    "# 70. Climbing Stairs (Use Dynamic Programming)"
   ]
  },
  {
   "cell_type": "code",
   "execution_count": null,
   "id": "0065971b",
   "metadata": {},
   "outputs": [],
   "source": [
    "class Solution:\n",
    "    def climbStairs(self, n: int) -> int:\n",
    "\n",
    "        if n == 1:\n",
    "            return 1\n",
    "        elif n == 2:\n",
    "            return 2\n",
    "        else:\n",
    "            position_one = 1\n",
    "            position_two = 2\n",
    "            for i in range(n - 2):\n",
    "                temp = position_two\n",
    "                result = position_one + position_two\n",
    "\n",
    "                position_one = temp\n",
    "                postion_two = result\n",
    "\n",
    "            return result\n"
   ]
  },
  {
   "cell_type": "markdown",
   "id": "1def5359",
   "metadata": {},
   "source": [
    "# 125. Valid Palindrome "
   ]
  },
  {
   "cell_type": "code",
   "execution_count": null,
   "id": "cdca9bf2",
   "metadata": {},
   "outputs": [
    {
     "name": "stdout",
     "output_type": "stream",
     "text": [
      "True\n"
     ]
    }
   ],
   "source": [
    "class Solution:\n",
    "    def isPalindrome(self, s: str) -> bool:\n",
    "        # first remove non-alpha characters, need to memorize the method, str.isalnum()\n",
    "        alpha_only = \"\".join([ch.lower() for ch in s if ch.isalnum()])\n",
    "        for i in range(len(alpha_only) // 2):\n",
    "            if alpha_only[i] != alpha_only[-i-1]:\n",
    "                return False\n",
    "        return True\n",
    "    \n",
    "test = \"A man, a plan, a canal: Panama\"\n",
    "sol = Solution()\n",
    "print(sol.isPalindrome(test))\n",
    "\n",
    "# Better solution using slicing A = -A\n",
    "class Solution:\n",
    "    def isPalindrome(self, s: str) -> bool:\n",
    "        filtered = \"\".join(ch.lower() for ch in s if ch.isalnum())\n",
    "        return filtered == filtered[::-1]"
   ]
  },
  {
   "cell_type": "code",
   "execution_count": 4,
   "id": "3890c79e",
   "metadata": {},
   "outputs": [
    {
     "data": {
      "text/plain": [
       "array([19.67333333])"
      ]
     },
     "execution_count": 4,
     "metadata": {},
     "output_type": "execute_result"
    }
   ],
   "source": [
    "import numpy as np\n",
    "x = np.array([1,2,3])\n",
    "y = np.array([13.05, 15.36, 17.44])\n",
    "from sklearn.linear_model import LinearRegression\n",
    "model = LinearRegression()\n",
    "model.fit(x.reshape(-1, 1), y)\n",
    "model.predict(np.array([[4]]))"
   ]
  },
  {
   "cell_type": "markdown",
   "id": "b26c815d",
   "metadata": {},
   "source": []
  }
 ],
 "metadata": {
  "kernelspec": {
   "display_name": ".venv",
   "language": "python",
   "name": "python3"
  },
  "language_info": {
   "codemirror_mode": {
    "name": "ipython",
    "version": 3
   },
   "file_extension": ".py",
   "mimetype": "text/x-python",
   "name": "python",
   "nbconvert_exporter": "python",
   "pygments_lexer": "ipython3",
   "version": "3.13.6"
  }
 },
 "nbformat": 4,
 "nbformat_minor": 5
}
