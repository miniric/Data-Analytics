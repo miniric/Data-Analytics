{
 "cells": [
  {
   "cell_type": "markdown",
   "id": "85063ab4",
   "metadata": {},
   "source": [
    "# 371. Sum of Two Integers"
   ]
  },
  {
   "cell_type": "code",
   "execution_count": null,
   "id": "3dfcffb9",
   "metadata": {},
   "outputs": [],
   "source": [
    "class Solution:\n",
    "    def getSum(self, a: int, b: int) -> int:\n",
    "    "
   ]
  }
 ],
 "metadata": {
  "kernelspec": {
   "display_name": ".venv",
   "language": "python",
   "name": "python3"
  },
  "language_info": {
   "name": "python",
   "version": "3.13.6"
  }
 },
 "nbformat": 4,
 "nbformat_minor": 5
}
