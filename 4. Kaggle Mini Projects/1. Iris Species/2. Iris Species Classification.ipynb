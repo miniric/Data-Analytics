{
 "cells": [
  {
   "cell_type": "markdown",
   "id": "63397a78",
   "metadata": {},
   "source": [
    "### After we finished our EDA on original data, we can start building different models to perform classification tasks"
   ]
  },
  {
   "cell_type": "code",
   "execution_count": 1,
   "id": "df15025f",
   "metadata": {},
   "outputs": [],
   "source": [
    "import numpy as np\n",
    "import pandas as pd\n",
    "import matplotlib.pyplot as plt\n",
    "import shutil\n",
    "import seaborn as sns\n",
    "import sklearn\n",
    "import time\n",
    "\n",
    "from sklearn.model_selection import train_test_split\n",
    "from sklearn.preprocessing import StandardScaler\n",
    "from sklearn.preprocessing import LabelEncoder\n",
    "from sklearn.metrics import accuracy_score, classification_report, confusion_matrix"
   ]
  },
  {
   "cell_type": "code",
   "execution_count": 2,
   "id": "6f7063d3",
   "metadata": {},
   "outputs": [],
   "source": [
    "df = pd.read_csv(\"Data/iris.csv\")"
   ]
  },
  {
   "cell_type": "code",
   "execution_count": 3,
   "id": "9d4d5648",
   "metadata": {},
   "outputs": [],
   "source": [
    "df_no_ID = df.drop(columns=[\"Id\"])"
   ]
  },
  {
   "cell_type": "code",
   "execution_count": 4,
   "id": "1aa882f1",
   "metadata": {},
   "outputs": [
    {
     "data": {
      "text/html": [
       "<div>\n",
       "<style scoped>\n",
       "    .dataframe tbody tr th:only-of-type {\n",
       "        vertical-align: middle;\n",
       "    }\n",
       "\n",
       "    .dataframe tbody tr th {\n",
       "        vertical-align: top;\n",
       "    }\n",
       "\n",
       "    .dataframe thead th {\n",
       "        text-align: right;\n",
       "    }\n",
       "</style>\n",
       "<table border=\"1\" class=\"dataframe\">\n",
       "  <thead>\n",
       "    <tr style=\"text-align: right;\">\n",
       "      <th></th>\n",
       "      <th>SepalLengthCm</th>\n",
       "      <th>SepalWidthCm</th>\n",
       "      <th>PetalLengthCm</th>\n",
       "      <th>PetalWidthCm</th>\n",
       "      <th>Species</th>\n",
       "    </tr>\n",
       "  </thead>\n",
       "  <tbody>\n",
       "    <tr>\n",
       "      <th>0</th>\n",
       "      <td>5.1</td>\n",
       "      <td>3.5</td>\n",
       "      <td>1.4</td>\n",
       "      <td>0.2</td>\n",
       "      <td>Iris-setosa</td>\n",
       "    </tr>\n",
       "    <tr>\n",
       "      <th>1</th>\n",
       "      <td>4.9</td>\n",
       "      <td>3.0</td>\n",
       "      <td>1.4</td>\n",
       "      <td>0.2</td>\n",
       "      <td>Iris-setosa</td>\n",
       "    </tr>\n",
       "    <tr>\n",
       "      <th>2</th>\n",
       "      <td>4.7</td>\n",
       "      <td>3.2</td>\n",
       "      <td>1.3</td>\n",
       "      <td>0.2</td>\n",
       "      <td>Iris-setosa</td>\n",
       "    </tr>\n",
       "    <tr>\n",
       "      <th>3</th>\n",
       "      <td>4.6</td>\n",
       "      <td>3.1</td>\n",
       "      <td>1.5</td>\n",
       "      <td>0.2</td>\n",
       "      <td>Iris-setosa</td>\n",
       "    </tr>\n",
       "    <tr>\n",
       "      <th>4</th>\n",
       "      <td>5.0</td>\n",
       "      <td>3.6</td>\n",
       "      <td>1.4</td>\n",
       "      <td>0.2</td>\n",
       "      <td>Iris-setosa</td>\n",
       "    </tr>\n",
       "  </tbody>\n",
       "</table>\n",
       "</div>"
      ],
      "text/plain": [
       "   SepalLengthCm  SepalWidthCm  PetalLengthCm  PetalWidthCm      Species\n",
       "0            5.1           3.5            1.4           0.2  Iris-setosa\n",
       "1            4.9           3.0            1.4           0.2  Iris-setosa\n",
       "2            4.7           3.2            1.3           0.2  Iris-setosa\n",
       "3            4.6           3.1            1.5           0.2  Iris-setosa\n",
       "4            5.0           3.6            1.4           0.2  Iris-setosa"
      ]
     },
     "execution_count": 4,
     "metadata": {},
     "output_type": "execute_result"
    }
   ],
   "source": [
    "df_no_ID.head()"
   ]
  },
  {
   "cell_type": "markdown",
   "id": "2de83a8c",
   "metadata": {},
   "source": [
    "### First, we split the data using sk-learn"
   ]
  },
  {
   "cell_type": "code",
   "execution_count": 5,
   "id": "70f6ae49",
   "metadata": {},
   "outputs": [
    {
     "data": {
      "text/plain": [
       "array(['Iris-setosa', 'Iris-versicolor', 'Iris-virginica'], dtype=object)"
      ]
     },
     "execution_count": 5,
     "metadata": {},
     "output_type": "execute_result"
    }
   ],
   "source": [
    "x = df_no_ID.drop(columns=[\"Species\"])\n",
    "y = df_no_ID[\"Species\"]\n",
    "y.unique()"
   ]
  },
  {
   "cell_type": "markdown",
   "id": "87f9991b",
   "metadata": {},
   "source": [
    "### Please note that Species are strings but not numbers which will cause issues when we do the classification.\n",
    "### Normally we will set data into numberal data for easier processing.\n",
    "### For example we can set Iris-setosa as 0, Iris-versicolor as 1, and Iris-virginica as 2 for better understanding"
   ]
  },
  {
   "cell_type": "code",
   "execution_count": 6,
   "id": "45f32522",
   "metadata": {},
   "outputs": [],
   "source": [
    "label_encoder = LabelEncoder()\n",
    "y = label_encoder.fit_transform(y)"
   ]
  },
  {
   "cell_type": "code",
   "execution_count": 7,
   "id": "ee5ceff8",
   "metadata": {},
   "outputs": [
    {
     "name": "stdout",
     "output_type": "stream",
     "text": [
      "Training Set: 105 samples, Testing Set: 45 samples\n"
     ]
    }
   ],
   "source": [
    "# Split the data into training and test sets, parameter test_size to 30% => 30% testing data, 70% trainning data\n",
    "# note we fixed the random_state to make sure we'll get same split everytime we run the code\n",
    "# so that we will not coincidently getting different models when running codes repeatedly.\n",
    "\n",
    "x_train, x_test, y_train, y_test = train_test_split(x, y, test_size=0.3, random_state=0)\n",
    "\n",
    "print(f'Training Set: {x_train.shape[0]} samples, Testing Set: {x_test.shape[0]} samples')"
   ]
  },
  {
   "cell_type": "markdown",
   "id": "7287a354",
   "metadata": {},
   "source": [
    "### Before building models, we want to make sure our features are standardized. The reason for standardization is that for different features, it might be in different scale. Without standardized the data, the model might be heavily biased.\n",
    "\n",
    "Noted: After Standardscaler, the data type will be changed from type: dataframe into a Numpy array"
   ]
  },
  {
   "cell_type": "code",
   "execution_count": 8,
   "id": "8856c889",
   "metadata": {},
   "outputs": [
    {
     "data": {
      "text/html": [
       "<div>\n",
       "<style scoped>\n",
       "    .dataframe tbody tr th:only-of-type {\n",
       "        vertical-align: middle;\n",
       "    }\n",
       "\n",
       "    .dataframe tbody tr th {\n",
       "        vertical-align: top;\n",
       "    }\n",
       "\n",
       "    .dataframe thead th {\n",
       "        text-align: right;\n",
       "    }\n",
       "</style>\n",
       "<table border=\"1\" class=\"dataframe\">\n",
       "  <thead>\n",
       "    <tr style=\"text-align: right;\">\n",
       "      <th></th>\n",
       "      <th>SepalLengthCm</th>\n",
       "      <th>SepalWidthCm</th>\n",
       "      <th>PetalLengthCm</th>\n",
       "      <th>PetalWidthCm</th>\n",
       "    </tr>\n",
       "  </thead>\n",
       "  <tbody>\n",
       "    <tr>\n",
       "      <th>0</th>\n",
       "      <td>-1.023664</td>\n",
       "      <td>-2.378463</td>\n",
       "      <td>-0.182950</td>\n",
       "      <td>-0.291459</td>\n",
       "    </tr>\n",
       "    <tr>\n",
       "      <th>1</th>\n",
       "      <td>0.695175</td>\n",
       "      <td>-0.101903</td>\n",
       "      <td>0.930661</td>\n",
       "      <td>0.737219</td>\n",
       "    </tr>\n",
       "    <tr>\n",
       "      <th>2</th>\n",
       "      <td>0.924353</td>\n",
       "      <td>0.581065</td>\n",
       "      <td>1.042022</td>\n",
       "      <td>1.637313</td>\n",
       "    </tr>\n",
       "    <tr>\n",
       "      <th>3</th>\n",
       "      <td>0.122229</td>\n",
       "      <td>-1.923151</td>\n",
       "      <td>0.652258</td>\n",
       "      <td>0.351465</td>\n",
       "    </tr>\n",
       "    <tr>\n",
       "      <th>4</th>\n",
       "      <td>0.924353</td>\n",
       "      <td>-1.240183</td>\n",
       "      <td>1.097702</td>\n",
       "      <td>0.737219</td>\n",
       "    </tr>\n",
       "  </tbody>\n",
       "</table>\n",
       "</div>"
      ],
      "text/plain": [
       "   SepalLengthCm  SepalWidthCm  PetalLengthCm  PetalWidthCm\n",
       "0      -1.023664     -2.378463      -0.182950     -0.291459\n",
       "1       0.695175     -0.101903       0.930661      0.737219\n",
       "2       0.924353      0.581065       1.042022      1.637313\n",
       "3       0.122229     -1.923151       0.652258      0.351465\n",
       "4       0.924353     -1.240183       1.097702      0.737219"
      ]
     },
     "execution_count": 8,
     "metadata": {},
     "output_type": "execute_result"
    }
   ],
   "source": [
    "scaler = StandardScaler()\n",
    "x_train_std = scaler.fit_transform(x_train)\n",
    "x_test_std = scaler.transform(x_test)\n",
    "\n",
    "pd.DataFrame(x_train_std, columns=x.columns).head()"
   ]
  },
  {
   "cell_type": "markdown",
   "id": "8b32a32c",
   "metadata": {},
   "source": [
    "### From this point we can move on to build our model"
   ]
  },
  {
   "cell_type": "markdown",
   "id": "6f574d54",
   "metadata": {},
   "source": [
    "## 1. Logistic Model"
   ]
  },
  {
   "cell_type": "code",
   "execution_count": 9,
   "id": "b2ca8e0e",
   "metadata": {},
   "outputs": [
    {
     "name": "stdout",
     "output_type": "stream",
     "text": [
      "Training time = 0.0704 seconds\n"
     ]
    }
   ],
   "source": [
    "# start timer\n",
    "start_time1 = time.time()\n",
    "\n",
    "# first creating sklearn logistic regression model object\n",
    "model1_logistic = sklearn.linear_model.LogisticRegression(max_iter=200,random_state=0)\n",
    "# fit in data for training\n",
    "model1_logistic.fit(x_train_std, y_train)\n",
    "\n",
    "# End time\n",
    "end_time1 = time.time()\n",
    "\n",
    "print(f\"Training time = {round((end_time1 - start_time1), 4):} seconds\")"
   ]
  },
  {
   "cell_type": "code",
   "execution_count": 10,
   "id": "473634fd",
   "metadata": {},
   "outputs": [
    {
     "name": "stdout",
     "output_type": "stream",
     "text": [
      "Model: Logistic Regression, Used Features: 4\n",
      "Accuracy: 0.9777777777777777\n"
     ]
    }
   ],
   "source": [
    "# Start to validate our model with test data\n",
    "# first of all, we use our model to ouput our predictions\n",
    "y_pred = model1_logistic.predict(x_test_std)\n",
    "\n",
    "score_model1 = accuracy_score(y_test, y_pred)\n",
    "\n",
    "print(\"Model: Logistic Regression, Used Features: 4\")\n",
    "print(\"Accuracy:\", score_model1)"
   ]
  },
  {
   "cell_type": "markdown",
   "id": "3176d6c7",
   "metadata": {},
   "source": [
    "### Looks alright, but note that from our EDA process, we found that the Petal data (width and length) seems to be better features than Sepal data. So we assume that even using Petal information only might still give a good enoguh result."
   ]
  },
  {
   "cell_type": "code",
   "execution_count": 11,
   "id": "5966f9c9",
   "metadata": {},
   "outputs": [],
   "source": [
    "x_train2 = x_train.iloc[:, [2, 3]]\n",
    "x_test2 = x_test.iloc[:, [2, 3]]"
   ]
  },
  {
   "cell_type": "code",
   "execution_count": 12,
   "id": "a22e07a6",
   "metadata": {},
   "outputs": [
    {
     "name": "stdout",
     "output_type": "stream",
     "text": [
      "Model: Logistic Regression, Used Features: 4\n",
      "Accuracy: 0.9777777777777777\n",
      "\n",
      "Model: Logistic Regression, Used Features: 2\n",
      "Accuracy: 0.9555555555555556\n",
      "\n",
      "Time for training model1:\n",
      "Training time = 0.0704 seconds\n",
      "\n",
      "Time for training model2:\n",
      "Training time = 0.0017 seconds\n",
      "\n"
     ]
    }
   ],
   "source": [
    "scaler = StandardScaler()\n",
    "x_train_2 = scaler.fit_transform(x_train2)\n",
    "x_test_2 = scaler.transform(x_test2)\n",
    "\n",
    "start_time2 = time.time()\n",
    "model2_logistic = sklearn.linear_model.LogisticRegression(max_iter=200, random_state=0)\n",
    "model2_logistic.fit(x_train_2, y_train)\n",
    "end_time2 = time.time()\n",
    "\n",
    "y_pred_2 = model2_logistic.predict(x_test_2)\n",
    "score_model2 = accuracy_score(y_test, y_pred_2)\n",
    "\n",
    "print(\"Model: Logistic Regression, Used Features: 4\")\n",
    "print(\"Accuracy:\", score_model1)\n",
    "print()\n",
    "\n",
    "print(\"Model: Logistic Regression, Used Features: 2\")\n",
    "print(\"Accuracy:\", score_model2)\n",
    "print()\n",
    "\n",
    "print(\"Time for training model1:\")\n",
    "print(f\"Training time = {round((end_time1 - start_time1), 4):} seconds\")\n",
    "print()\n",
    "\n",
    "print(\"Time for training model2:\")\n",
    "print(f\"Training time = {round((end_time2 - start_time2), 4):} seconds\")\n",
    "print()\n"
   ]
  },
  {
   "cell_type": "code",
   "execution_count": 13,
   "id": "73e82933",
   "metadata": {},
   "outputs": [
    {
     "name": "stdout",
     "output_type": "stream",
     "text": [
      "Training time change in percentage: -97.59%\n",
      "Accuracy change in percentage: -2.27%\n"
     ]
    }
   ],
   "source": [
    "time1 = round((start_time1 - end_time1), 4)\n",
    "time2 = round((start_time2 - end_time2), 4)\n",
    "\n",
    "print(f\"Training time change in percentage: {round(((time2 - time1) / time1 * 100), 2)}%\")\n",
    "print(f\"Accuracy change in percentage: {round(((score_model2 - score_model1) / score_model1 * 100), 2)}%\")"
   ]
  },
  {
   "cell_type": "markdown",
   "id": "341b2188",
   "metadata": {},
   "source": [
    "### As we can see above, by only giving little of lost in accuracy we save a lot of time in training. In a more practical field, training cost can be enormous, and that is why EDA can be helpful when deciding main features."
   ]
  },
  {
   "cell_type": "markdown",
   "id": "0f922c08",
   "metadata": {},
   "source": [
    "## 2. SVM (Support Vector Machine)\n",
    "It can be another helpful weapon when it comes to classification task. Let us play around with it."
   ]
  },
  {
   "cell_type": "code",
   "execution_count": 14,
   "id": "66b9591a",
   "metadata": {},
   "outputs": [],
   "source": [
    "x_train = scaler.fit_transform(x_train)\n",
    "x_test = scaler.transform(x_test)"
   ]
  },
  {
   "cell_type": "code",
   "execution_count": 15,
   "id": "9cf4e335",
   "metadata": {},
   "outputs": [
    {
     "name": "stdout",
     "output_type": "stream",
     "text": [
      "Model: SVM, Used Features: 4\n",
      "Accuracy: 0.9777777777777777\n",
      "\n",
      "Model: SVM, Used Features: 2\n",
      "Accuracy: 0.9777777777777777\n",
      "\n",
      "Time for training model1:\n",
      "Training time = 0.0018 seconds\n",
      "\n",
      "Time for training model2:\n",
      "Training time = 0.0006 seconds\n",
      "\n"
     ]
    }
   ],
   "source": [
    "start_time1 = time.time()\n",
    "model3_svm = sklearn.svm.SVC()\n",
    "model3_svm.fit(x_train, y_train)\n",
    "end_time1 = time.time()\n",
    "\n",
    "start_time2 = time.time()\n",
    "model4_svm = sklearn.svm.SVC()\n",
    "model4_svm.fit(x_train_2, y_train)\n",
    "end_time2 = time.time()\n",
    "\n",
    "y_pred = model3_svm.predict(x_test)\n",
    "y_pred_2 = model4_svm.predict(x_test_2)\n",
    "\n",
    "score_model3 = accuracy_score(y_test, y_pred)\n",
    "score_model4 = accuracy_score(y_test, y_pred_2)\n",
    "\n",
    "print(\"Model: SVM, Used Features: 4\")\n",
    "print(\"Accuracy:\", score_model3)\n",
    "print()\n",
    "\n",
    "print(\"Model: SVM, Used Features: 2\")\n",
    "print(\"Accuracy:\", score_model4)\n",
    "print()\n",
    "\n",
    "print(\"Time for training model1:\")\n",
    "print(f\"Training time = {round((end_time1 - start_time1), 4):} seconds\")\n",
    "print()\n",
    "\n",
    "print(\"Time for training model2:\")\n",
    "print(f\"Training time = {round((end_time2 - start_time2), 4):} seconds\")\n",
    "print()"
   ]
  },
  {
   "cell_type": "code",
   "execution_count": 16,
   "id": "fae5121a",
   "metadata": {},
   "outputs": [
    {
     "name": "stdout",
     "output_type": "stream",
     "text": [
      "Training time change in percentage: -66.67%\n",
      "Accuracy change in percentage: 0.0%\n"
     ]
    }
   ],
   "source": [
    "time1 = round((start_time1 - end_time1), 4)\n",
    "time2 = round((start_time2 - end_time2), 4)\n",
    "\n",
    "print(f\"Training time change in percentage: {round(((time2 - time1) / time1 * 100), 2)}%\")\n",
    "print(f\"Accuracy change in percentage: {round(((score_model3 - score_model4) / score_model1 * 100), 2)}%\")"
   ]
  },
  {
   "cell_type": "markdown",
   "id": "7947a478",
   "metadata": {},
   "source": [
    "### In SVM, we can basically ignore the information given from Sepal. By using Petal (width and length) standalone, the model prediction is identical with good accuracy."
   ]
  },
  {
   "cell_type": "markdown",
   "id": "041ed288",
   "metadata": {},
   "source": [
    "# 3. Random Forest"
   ]
  },
  {
   "cell_type": "code",
   "execution_count": 17,
   "id": "3d9f034c",
   "metadata": {},
   "outputs": [
    {
     "name": "stdout",
     "output_type": "stream",
     "text": [
      "Model: Random Forest, Used Features: 4\n",
      "Accuracy: 0.9777777777777777\n",
      "\n",
      "Model: Random Forest, Used Features: 2\n",
      "Accuracy: 0.9555555555555556\n",
      "\n",
      "Time for training model1:\n",
      "Training time = 0.1475 seconds\n",
      "\n",
      "Time for training model2:\n",
      "Training time = 0.0389 seconds\n",
      "\n"
     ]
    }
   ],
   "source": [
    "# Parameter in randomForest\n",
    "# n_estimators: The number of trees in the forest.\n",
    "# random_state: Controls the randomness of the estimator.\n",
    "# max_depth: The maximum depth of the tree.\n",
    "\n",
    "start_time1 = time.time()\n",
    "model5_randomforest = sklearn.ensemble.RandomForestClassifier(n_estimators=100, max_depth= None, random_state=0)\n",
    "model5_randomforest.fit(x_train, y_train)\n",
    "end_time1 = time.time()\n",
    "\n",
    "start_time2 = time.time()\n",
    "model6_randomforest = sklearn.ensemble.RandomForestClassifier(n_estimators=100, max_depth= None, random_state=0)\n",
    "model6_randomforest.fit(x_train_2, y_train)\n",
    "end_time2 = time.time()\n",
    "\n",
    "y_pred = model5_randomforest.predict(x_test)\n",
    "y_pred_2 = model6_randomforest.predict(x_test_2)\n",
    "\n",
    "score_model5 = accuracy_score(y_test, y_pred)\n",
    "score_model6 = accuracy_score(y_test, y_pred_2)\n",
    "\n",
    "print(\"Model: Random Forest, Used Features: 4\")\n",
    "print(\"Accuracy:\", score_model5)\n",
    "print()\n",
    "\n",
    "print(\"Model: Random Forest, Used Features: 2\")\n",
    "print(\"Accuracy:\", score_model6)\n",
    "print()\n",
    "\n",
    "print(\"Time for training model1:\")\n",
    "print(f\"Training time = {round((end_time1 - start_time1), 4):} seconds\")\n",
    "print()\n",
    "\n",
    "print(\"Time for training model2:\")\n",
    "print(f\"Training time = {round((end_time2 - start_time2), 4):} seconds\")\n",
    "print()"
   ]
  },
  {
   "cell_type": "markdown",
   "id": "36378241",
   "metadata": {},
   "source": [
    "### We can plot the below feature importance plot in our random forest to see how the model think which feature is more important."
   ]
  },
  {
   "cell_type": "code",
   "execution_count": 18,
   "id": "f9fecf4a",
   "metadata": {},
   "outputs": [
    {
     "data": {
      "image/png": "[encoded data removed]",
      "text/plain": [
       "<Figure size 640x480 with 1 Axes>"
      ]
     },
     "metadata": {},
     "output_type": "display_data"
    }
   ],
   "source": [
    "importances = model5_randomforest.feature_importances_\n",
    "features = x.columns\n",
    "\n",
    "plt.bar(features, importances)\n",
    "plt.title(\"Feature Importance in Random Forest\")\n",
    "plt.show()"
   ]
  },
  {
   "cell_type": "markdown",
   "id": "ad0ec6d6",
   "metadata": {},
   "source": [
    "# Neural Networks"
   ]
  },
  {
   "cell_type": "code",
   "execution_count": 19,
   "id": "c09d5695",
   "metadata": {},
   "outputs": [],
   "source": [
    "import torch\n",
    "import torch.nn as nn\n",
    "import torch.optim as optim\n",
    "from torch.utils.data import TensorDataset, DataLoader"
   ]
  },
  {
   "cell_type": "code",
   "execution_count": 20,
   "id": "5125ac22",
   "metadata": {},
   "outputs": [],
   "source": [
    "# change into tensor\n",
    "x_train_tensor = torch.tensor(x_train, dtype=torch.float32)\n",
    "y_train_tensor = torch.tensor(y_train, dtype=torch.long)\n",
    "x_test_tensor = torch.tensor(x_test, dtype=torch.float32)\n",
    "y_test_tensor = torch.tensor(y_test, dtype=torch.long)\n",
    "\n",
    "train_ds = TensorDataset(x_train_tensor, y_train_tensor)\n",
    "test_ds = TensorDataset(x_test_tensor, y_test_tensor)\n",
    "\n",
    "train_loader = DataLoader(train_ds, batch_size=16, shuffle=True)\n",
    "test_loader = DataLoader(test_ds, batch_size=64, shuffle=False)"
   ]
  },
  {
   "cell_type": "code",
   "execution_count": 21,
   "id": "031520cc",
   "metadata": {},
   "outputs": [
    {
     "name": "stdout",
     "output_type": "stream",
     "text": [
      "Epoch 20, Loss: 0.3792\n",
      "Epoch 40, Loss: 0.0397\n",
      "Epoch 60, Loss: 0.1766\n",
      "Epoch 80, Loss: 0.0865\n",
      "Epoch 100, Loss: 0.0024\n",
      "Test Accuracy: 0.9778\n"
     ]
    }
   ],
   "source": [
    "class MLP(nn.Module):\n",
    "    def __init__(self, layers=[64,16,3]):\n",
    "        super(MLP, self).__init__()\n",
    "        \n",
    "        self.mlp = nn.Sequential(\n",
    "            nn.Linear(4, layers[0]),\n",
    "            nn.ReLU(),\n",
    "            nn.Linear(layers[0], layers[1]),\n",
    "            nn.ReLU(),\n",
    "            nn.Linear(layers[1], layers[2])\n",
    "        )\n",
    "    def forward(self, x):\n",
    "        return self.mlp(x)\n",
    "\n",
    "model_NN = MLP()\n",
    "criterion = nn.CrossEntropyLoss()\n",
    "optimizer = optim.Adam(model_NN.parameters(), lr=0.001)\n",
    "\n",
    "\n",
    "# Trainning Stage\n",
    "start_time = time.time()\n",
    "epochs = 100\n",
    "for epoch in range(epochs):\n",
    "    model_NN.train()\n",
    "    for x, y in train_loader:\n",
    "        optimizer.zero_grad()\n",
    "        y_pred = model_NN(x)\n",
    "        loss = criterion(y_pred, y)\n",
    "        loss.backward()\n",
    "        optimizer.step()\n",
    "        \n",
    "    if (epoch+1) % 20 == 0:\n",
    "        print(f\"Epoch {epoch+1}, Loss: {loss.item():.4f}\")\n",
    "end_time = time.time()\n",
    "\n",
    "# Evaluation\n",
    "model_NN.eval()\n",
    "correct = 0\n",
    "total = 0\n",
    "with torch.no_grad():\n",
    "    for x, y in test_loader:\n",
    "        y_pred = model_NN(x)\n",
    "        _, predicted = torch.max(y_pred, 1)\n",
    "        correct += (predicted == y).sum().item()\n",
    "        total += y.size(0)\n",
    "print(f\"Test Accuracy: {correct/total:.4f}\")"
   ]
  },
  {
   "cell_type": "code",
   "execution_count": 22,
   "id": "64c01746",
   "metadata": {},
   "outputs": [
    {
     "name": "stdout",
     "output_type": "stream",
     "text": [
      "Time for training:\n",
      "Training time = 0.2516 seconds\n",
      "\n"
     ]
    }
   ],
   "source": [
    "print(\"Time for training:\")\n",
    "print(f\"Training time = {round((end_time - start_time), 4):} seconds\")\n",
    "print()\n"
   ]
  },
  {
   "cell_type": "markdown",
   "id": "ef48a84d",
   "metadata": {},
   "source": [
    "\n"
   ]
  }
 ],
 "metadata": {
  "kernelspec": {
   "display_name": ".venv",
   "language": "python",
   "name": "python3"
  },
  "language_info": {
   "codemirror_mode": {
    "name": "ipython",
    "version": 3
   },
   "file_extension": ".py",
   "mimetype": "text/x-python",
   "name": "python",
   "nbconvert_exporter": "python",
   "pygments_lexer": "ipython3",
   "version": "3.13.6"
  }
 },
 "nbformat": 4,
 "nbformat_minor": 5
}
