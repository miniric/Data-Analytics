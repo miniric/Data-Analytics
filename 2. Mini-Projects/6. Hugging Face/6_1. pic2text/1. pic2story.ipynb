{
 "cells": [
  {
   "cell_type": "markdown",
   "id": "c6afcf3d",
   "metadata": {},
   "source": [
    "### huggingface.co/task"
   ]
  },
  {
   "cell_type": "code",
   "execution_count": null,
   "id": "7916c8f2",
   "metadata": {},
   "outputs": [],
   "source": [
    "import os\n",
    "os.environ[\"OPENAI_API_KEY\"] = \"HIDDEN\""
   ]
  },
  {
   "cell_type": "code",
   "execution_count": null,
   "id": "6a723ea4",
   "metadata": {},
   "outputs": [],
   "source": [
    "from transformers import pipeline\n",
    "from langchain_openai import ChatOpenAI\n",
    "from langchain.prompts import PromptTemplate\n",
    "from langchain.chains import LLMChain\n",
    "\n",
    "# 建立 pipeline\n",
    "image_to_text = pipeline(\n",
    "    task=\"image-to-text\",\n",
    "    model=\"Salesforce/blip\"\n",
    "    \"-image-captioning-base\"  \n",
    ")\n",
    "\n",
    "def img2text(file_path):\n",
    "    result = image_to_text(file_path)\n",
    "    story = result[0]['generated_text']\n",
    "    print(\"Story:\", story)\n",
    "    return story"
   ]
  },
  {
   "cell_type": "code",
   "execution_count": null,
   "id": "f44c27b1",
   "metadata": {},
   "outputs": [],
   "source": [
    "img2text(\"data/2.jpg\") # input your image path here"
   ]
  },
  {
   "cell_type": "code",
   "execution_count": null,
   "id": "986d79c1",
   "metadata": {},
   "outputs": [],
   "source": [
    "def generate_story(scenario):\n",
    "    template = \"\"\"\n",
    "    You are a good story teller, Please write a short story based on the following description within 100 words.:\n",
    "\n",
    "    Context: {scenario}\n",
    "    STORY:\n",
    "    \"\"\"\n",
    "    prompt = PromptTemplate(template=template, input_variables=[\"scenario\"])\n",
    "    llm = ChatOpenAI(model=\"gpt-4o-mini\", temperature=1)\n",
    "    story_llm = LLMChain(llm=llm, prompt=prompt, verbose=True)\n",
    "\n",
    "    story = story_llm.predict(scenario=scenario)\n",
    "    print(\"Generated Story:\", story)\n",
    "    return story\n"
   ]
  },
  {
   "cell_type": "code",
   "execution_count": null,
   "id": "ea46b219",
   "metadata": {},
   "outputs": [],
   "source": [
    "scenario = img2text(\"data/1.png\")\n",
    "generate_story(scenario)"
   ]
  },
  {
   "cell_type": "code",
   "execution_count": null,
   "id": "aa2bced7",
   "metadata": {},
   "outputs": [],
   "source": []
  }
 ],
 "metadata": {
  "kernelspec": {
   "display_name": ".venv",
   "language": "python",
   "name": "python3"
  },
  "language_info": {
   "codemirror_mode": {
    "name": "ipython",
    "version": 3
   },
   "file_extension": ".py",
   "mimetype": "text/x-python",
   "name": "python",
   "nbconvert_exporter": "python",
   "pygments_lexer": "ipython3",
   "version": "3.13.6"
  }
 },
 "nbformat": 4,
 "nbformat_minor": 5
}
