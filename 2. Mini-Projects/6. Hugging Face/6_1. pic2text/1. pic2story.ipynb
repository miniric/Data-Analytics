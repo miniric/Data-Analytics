{
 "cells": [
  {
   "cell_type": "markdown",
   "id": "c6afcf3d",
   "metadata": {},
   "source": [
    "### huggingface.co/task"
   ]
  },
  {
   "cell_type": "code",
   "execution_count": 9,
   "id": "6a723ea4",
   "metadata": {},
   "outputs": [
    {
     "name": "stderr",
     "output_type": "stream",
     "text": [
      "Fetching 1 files: 100%|██████████| 1/1 [00:00<00:00, 8683.86it/s]\n",
      "Device set to use mps:0\n"
     ]
    }
   ],
   "source": [
    "from transformers import pipeline\n",
    "\n",
    "# 建立 pipeline\n",
    "image_to_text = pipeline(\n",
    "    task=\"image-to-text\",\n",
    "    model=\"Salesforce/blip\"\n",
    "    \"-image-captioning-base\"  \n",
    ")\n",
    "\n",
    "def img2text(file_path):\n",
    "    result = image_to_text(file_path)\n",
    "    story = result[0]['generated_text']\n",
    "    print(\"Story:\", story)\n",
    "    return story"
   ]
  },
  {
   "cell_type": "code",
   "execution_count": 10,
   "id": "f44c27b1",
   "metadata": {},
   "outputs": [
    {
     "name": "stdout",
     "output_type": "stream",
     "text": [
      "Story: a cat and dog sitting on a couch\n"
     ]
    },
    {
     "data": {
      "text/plain": [
       "'a cat and dog sitting on a couch'"
      ]
     },
     "execution_count": 10,
     "metadata": {},
     "output_type": "execute_result"
    }
   ],
   "source": [
    "img2text(\"data/1.png\")"
   ]
  },
  {
   "cell_type": "code",
   "execution_count": null,
   "id": "ec7f2be3",
   "metadata": {},
   "outputs": [],
   "source": []
  }
 ],
 "metadata": {
  "kernelspec": {
   "display_name": ".venv",
   "language": "python",
   "name": "python3"
  },
  "language_info": {
   "codemirror_mode": {
    "name": "ipython",
    "version": 3
   },
   "file_extension": ".py",
   "mimetype": "text/x-python",
   "name": "python",
   "nbconvert_exporter": "python",
   "pygments_lexer": "ipython3",
   "version": "3.13.6"
  }
 },
 "nbformat": 4,
 "nbformat_minor": 5
}
